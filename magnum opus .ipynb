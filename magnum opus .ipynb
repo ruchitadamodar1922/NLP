{
 "cells": [
  {
   "cell_type": "code",
   "execution_count": 10,
   "metadata": {},
   "outputs": [],
   "source": [
    "#Import tokenizer\n",
    "from nltk.tokenize import word_tokenize\n",
    "text1='Most people An infectious and deadly coronavirus infected with the COVID-19 virus will experience mild to moderate respiratory illness and recover without requiring special treatment.  Older people, and those with underlying medical problems like cardiovascular disease, diabetes, chronic respiratory disease, and cancer are more likely to develop serious illness.'\n",
    "text2='At this time,An infectious and deadly coronavirus that has killed thousands in China has spread to at least 44 countries, stirring fears that COVID-19 may soon become a pandemic. there are no specific vaccines or treatments for COVID-19. However, there are many ongoing clinical trials evaluating potential treatments. WHO will continue to provide updated information as soon as clinical findings become available.'"
   ]
  },
  {
   "cell_type": "code",
   "execution_count": 11,
   "metadata": {},
   "outputs": [
    {
     "name": "stdout",
     "output_type": "stream",
     "text": [
      "most peopl An infecti and deadli coronaviru infect with the covid-19 viru will experi mild to moder respiratori ill and recov without requir special treatment.  older people, and those with underli medic problem like cardiovascular disease, diabetes, chronic respiratori disease, and cancer are more like to develop seriou illness.\n"
     ]
    }
   ],
   "source": [
    "#stemmming text1 using porter stemmer\n",
    "from nltk.stem import PorterStemmer\n",
    "stemmer=PorterStemmer()\n",
    "doc1=[stemmer.stem(token) for token in text1.split(\" \")]\n",
    "k=\" \".join(doc1)\n",
    "print(k)"
   ]
  },
  {
   "cell_type": "code",
   "execution_count": 12,
   "metadata": {},
   "outputs": [
    {
     "name": "stdout",
     "output_type": "stream",
     "text": [
      "At thi time,an infecti and deadli coronaviru that ha kill thousand in china ha spread to at least 44 countries, stir fear that covid-19 may soon becom a pandemic. there are no specif vaccin or treatment for covid-19. however, there are mani ongo clinic trial evalu potenti treatments. who will continu to provid updat inform as soon as clinic find becom available.\n"
     ]
    }
   ],
   "source": [
    "#stemming text2 using poter stemmer\n",
    "from nltk.stem import PorterStemmer\n",
    "stemmer=PorterStemmer()\n",
    "doc2=[stemmer.stem(token) for token in text2.split(\" \")]\n",
    "l=\" \".join(doc2)\n",
    "print(l)"
   ]
  },
  {
   "cell_type": "code",
   "execution_count": 13,
   "metadata": {},
   "outputs": [
    {
     "data": {
      "text/plain": [
       "CountVectorizer(analyzer='word', binary=True, decode_error='strict',\n",
       "                dtype=<class 'numpy.int64'>, encoding='utf-8', input='content',\n",
       "                lowercase=True, max_df=1.0, max_features=None, min_df=1,\n",
       "                ngram_range=(1, 1), preprocessor=None, stop_words=None,\n",
       "                strip_accents=None, token_pattern='(?u)\\\\b\\\\w\\\\w+\\\\b',\n",
       "                tokenizer=None, vocabulary=None)"
      ]
     },
     "execution_count": 13,
     "metadata": {},
     "output_type": "execute_result"
    }
   ],
   "source": [
    "#vectorize \n",
    "from sklearn.feature_extraction.text import CountVectorizer\n",
    "vect1= CountVectorizer(binary=True)\n",
    "corpus1=[k,l]\n",
    "vect1.fit(corpus1)"
   ]
  },
  {
   "cell_type": "code",
   "execution_count": 14,
   "metadata": {},
   "outputs": [
    {
     "data": {
      "text/plain": [
       "{'most': 44,\n",
       " 'peopl': 50,\n",
       " 'an': 2,\n",
       " 'infecti': 33,\n",
       " 'and': 3,\n",
       " 'deadli': 18,\n",
       " 'coronaviru': 15,\n",
       " 'infect': 32,\n",
       " 'with': 81,\n",
       " 'the': 65,\n",
       " 'covid': 17,\n",
       " '19': 0,\n",
       " 'viru': 78,\n",
       " 'will': 80,\n",
       " 'experi': 23,\n",
       " 'mild': 41,\n",
       " 'to': 71,\n",
       " 'moder': 42,\n",
       " 'respiratori': 57,\n",
       " 'ill': 29,\n",
       " 'recov': 55,\n",
       " 'without': 82,\n",
       " 'requir': 56,\n",
       " 'special': 60,\n",
       " 'treatment': 72,\n",
       " 'older': 46,\n",
       " 'people': 51,\n",
       " 'those': 68,\n",
       " 'underli': 75,\n",
       " 'medic': 40,\n",
       " 'problem': 53,\n",
       " 'like': 37,\n",
       " 'cardiovascular': 10,\n",
       " 'disease': 21,\n",
       " 'diabetes': 20,\n",
       " 'chronic': 12,\n",
       " 'cancer': 9,\n",
       " 'are': 4,\n",
       " 'more': 43,\n",
       " 'develop': 19,\n",
       " 'seriou': 58,\n",
       " 'illness': 30,\n",
       " 'at': 6,\n",
       " 'thi': 67,\n",
       " 'time': 70,\n",
       " 'that': 64,\n",
       " 'ha': 27,\n",
       " 'kill': 35,\n",
       " 'thousand': 69,\n",
       " 'in': 31,\n",
       " 'china': 11,\n",
       " 'spread': 62,\n",
       " 'least': 36,\n",
       " '44': 1,\n",
       " 'countries': 16,\n",
       " 'stir': 63,\n",
       " 'fear': 24,\n",
       " 'may': 39,\n",
       " 'soon': 59,\n",
       " 'becom': 8,\n",
       " 'pandemic': 49,\n",
       " 'there': 66,\n",
       " 'no': 45,\n",
       " 'specif': 61,\n",
       " 'vaccin': 77,\n",
       " 'or': 48,\n",
       " 'for': 26,\n",
       " 'however': 28,\n",
       " 'mani': 38,\n",
       " 'ongo': 47,\n",
       " 'clinic': 13,\n",
       " 'trial': 74,\n",
       " 'evalu': 22,\n",
       " 'potenti': 52,\n",
       " 'treatments': 73,\n",
       " 'who': 79,\n",
       " 'continu': 14,\n",
       " 'provid': 54,\n",
       " 'updat': 76,\n",
       " 'inform': 34,\n",
       " 'as': 5,\n",
       " 'find': 25,\n",
       " 'available': 7}"
      ]
     },
     "execution_count": 14,
     "metadata": {},
     "output_type": "execute_result"
    }
   ],
   "source": [
    "vocab1=vect1.vocabulary_\n",
    "vocab1"
   ]
  },
  {
   "cell_type": "code",
   "execution_count": null,
   "metadata": {},
   "outputs": [],
   "source": []
  },
  {
   "cell_type": "code",
   "execution_count": 15,
   "metadata": {},
   "outputs": [
    {
     "name": "stdout",
     "output_type": "stream",
     "text": [
      "19:0\n",
      "44:1\n",
      "an:2\n",
      "and:3\n",
      "are:4\n",
      "as:5\n",
      "at:6\n",
      "available:7\n",
      "becom:8\n",
      "cancer:9\n",
      "cardiovascular:10\n",
      "china:11\n",
      "chronic:12\n",
      "clinic:13\n",
      "continu:14\n",
      "coronaviru:15\n",
      "countries:16\n",
      "covid:17\n",
      "deadli:18\n",
      "develop:19\n",
      "diabetes:20\n",
      "disease:21\n",
      "evalu:22\n",
      "experi:23\n",
      "fear:24\n",
      "find:25\n",
      "for:26\n",
      "ha:27\n",
      "however:28\n",
      "ill:29\n",
      "illness:30\n",
      "in:31\n",
      "infect:32\n",
      "infecti:33\n",
      "inform:34\n",
      "kill:35\n",
      "least:36\n",
      "like:37\n",
      "mani:38\n",
      "may:39\n",
      "medic:40\n",
      "mild:41\n",
      "moder:42\n",
      "more:43\n",
      "most:44\n",
      "no:45\n",
      "older:46\n",
      "ongo:47\n",
      "or:48\n",
      "pandemic:49\n",
      "peopl:50\n",
      "people:51\n",
      "potenti:52\n",
      "problem:53\n",
      "provid:54\n",
      "recov:55\n",
      "requir:56\n",
      "respiratori:57\n",
      "seriou:58\n",
      "soon:59\n",
      "special:60\n",
      "specif:61\n",
      "spread:62\n",
      "stir:63\n",
      "that:64\n",
      "the:65\n",
      "there:66\n",
      "thi:67\n",
      "those:68\n",
      "thousand:69\n",
      "time:70\n",
      "to:71\n",
      "treatment:72\n",
      "treatments:73\n",
      "trial:74\n",
      "underli:75\n",
      "updat:76\n",
      "vaccin:77\n",
      "viru:78\n",
      "who:79\n",
      "will:80\n",
      "with:81\n",
      "without:82\n"
     ]
    }
   ],
   "source": [
    "for key in sorted(vocab1.keys()):\n",
    "    print(\"{}:{}\".format(key, vocab1[key]))"
   ]
  },
  {
   "cell_type": "code",
   "execution_count": 16,
   "metadata": {},
   "outputs": [
    {
     "name": "stdout",
     "output_type": "stream",
     "text": [
      "[[1 1 1 1 0 0 1 0 0 0 0 1 0 0 0 0 1 1 0 0 0 0 0 0 0 0 0 0 0 0 0 1 0 0 0 0\n",
      "  1 0 0 1 0 0 0 0 0 0 0 0 0 1 0 0 0 0 0 0 0 0 0 1 0 0 1 0 1 0 0 0 0 0 0 1\n",
      "  0 0 0 0 0 0 0 0 0 0 0]]\n"
     ]
    }
   ],
   "source": [
    "print(vect1.transform(['An infectious and deadly coronavirus that has killed thousands in China has spread to at least 44 countries, stirring fears that COVID-19 may soon become a pandemic.']).toarray())"
   ]
  },
  {
   "cell_type": "code",
   "execution_count": null,
   "metadata": {},
   "outputs": [],
   "source": []
  },
  {
   "cell_type": "code",
   "execution_count": 19,
   "metadata": {},
   "outputs": [
    {
     "name": "stdout",
     "output_type": "stream",
     "text": [
      "[[0.23537827]]\n"
     ]
    }
   ],
   "source": [
    "from sklearn.metrics.pairwise import cosine_similarity\n",
    "similarity = cosine_similarity(vect1.transform([k]).toarray(), vect1.transform([l]).toarray())\n",
    "print(similarity)"
   ]
  },
  {
   "cell_type": "code",
   "execution_count": 22,
   "metadata": {},
   "outputs": [
    {
     "data": {
      "text/plain": [
       "CountVectorizer(analyzer='word', binary=True, decode_error='strict',\n",
       "                dtype=<class 'numpy.int64'>, encoding='utf-8', input='content',\n",
       "                lowercase=True, max_df=1.0, max_features=None, min_df=1,\n",
       "                ngram_range=(1, 1), preprocessor=None, stop_words=None,\n",
       "                strip_accents=None, token_pattern='(?u)\\\\b\\\\w\\\\w+\\\\b',\n",
       "                tokenizer=None, vocabulary=None)"
      ]
     },
     "execution_count": 22,
     "metadata": {},
     "output_type": "execute_result"
    }
   ],
   "source": [
    "#vectorize \n",
    "from sklearn.feature_extraction.text import CountVectorizer\n",
    "vect2= CountVectorizer(binary=True)\n",
    "corpus2=[text1,text2]\n",
    "vect2.fit(corpus2)"
   ]
  },
  {
   "cell_type": "code",
   "execution_count": 23,
   "metadata": {},
   "outputs": [
    {
     "data": {
      "text/plain": [
       "{'most': 44,\n",
       " 'people': 50,\n",
       " 'an': 2,\n",
       " 'infectious': 32,\n",
       " 'and': 3,\n",
       " 'deadly': 18,\n",
       " 'coronavirus': 15,\n",
       " 'infected': 31,\n",
       " 'with': 80,\n",
       " 'the': 64,\n",
       " 'covid': 17,\n",
       " '19': 0,\n",
       " 'virus': 77,\n",
       " 'will': 79,\n",
       " 'experience': 23,\n",
       " 'mild': 41,\n",
       " 'to': 70,\n",
       " 'moderate': 42,\n",
       " 'respiratory': 56,\n",
       " 'illness': 29,\n",
       " 'recover': 54,\n",
       " 'without': 81,\n",
       " 'requiring': 55,\n",
       " 'special': 59,\n",
       " 'treatment': 71,\n",
       " 'older': 46,\n",
       " 'those': 67,\n",
       " 'underlying': 74,\n",
       " 'medical': 40,\n",
       " 'problems': 52,\n",
       " 'like': 36,\n",
       " 'cardiovascular': 10,\n",
       " 'disease': 21,\n",
       " 'diabetes': 20,\n",
       " 'chronic': 12,\n",
       " 'cancer': 9,\n",
       " 'are': 4,\n",
       " 'more': 43,\n",
       " 'likely': 37,\n",
       " 'develop': 19,\n",
       " 'serious': 57,\n",
       " 'at': 6,\n",
       " 'this': 66,\n",
       " 'time': 69,\n",
       " 'that': 63,\n",
       " 'has': 27,\n",
       " 'killed': 34,\n",
       " 'thousands': 68,\n",
       " 'in': 30,\n",
       " 'china': 11,\n",
       " 'spread': 61,\n",
       " 'least': 35,\n",
       " '44': 1,\n",
       " 'countries': 16,\n",
       " 'stirring': 62,\n",
       " 'fears': 24,\n",
       " 'may': 39,\n",
       " 'soon': 58,\n",
       " 'become': 8,\n",
       " 'pandemic': 49,\n",
       " 'there': 65,\n",
       " 'no': 45,\n",
       " 'specific': 60,\n",
       " 'vaccines': 76,\n",
       " 'or': 48,\n",
       " 'treatments': 72,\n",
       " 'for': 26,\n",
       " 'however': 28,\n",
       " 'many': 38,\n",
       " 'ongoing': 47,\n",
       " 'clinical': 13,\n",
       " 'trials': 73,\n",
       " 'evaluating': 22,\n",
       " 'potential': 51,\n",
       " 'who': 78,\n",
       " 'continue': 14,\n",
       " 'provide': 53,\n",
       " 'updated': 75,\n",
       " 'information': 33,\n",
       " 'as': 5,\n",
       " 'findings': 25,\n",
       " 'available': 7}"
      ]
     },
     "execution_count": 23,
     "metadata": {},
     "output_type": "execute_result"
    }
   ],
   "source": [
    "vocab2=vect2.vocabulary_\n",
    "vocab2"
   ]
  },
  {
   "cell_type": "code",
   "execution_count": 24,
   "metadata": {},
   "outputs": [
    {
     "name": "stdout",
     "output_type": "stream",
     "text": [
      "19:0\n",
      "44:1\n",
      "an:2\n",
      "and:3\n",
      "are:4\n",
      "as:5\n",
      "at:6\n",
      "available:7\n",
      "become:8\n",
      "cancer:9\n",
      "cardiovascular:10\n",
      "china:11\n",
      "chronic:12\n",
      "clinical:13\n",
      "continue:14\n",
      "coronavirus:15\n",
      "countries:16\n",
      "covid:17\n",
      "deadly:18\n",
      "develop:19\n",
      "diabetes:20\n",
      "disease:21\n",
      "evaluating:22\n",
      "experience:23\n",
      "fears:24\n",
      "findings:25\n",
      "for:26\n",
      "has:27\n",
      "however:28\n",
      "illness:29\n",
      "in:30\n",
      "infected:31\n",
      "infectious:32\n",
      "information:33\n",
      "killed:34\n",
      "least:35\n",
      "like:36\n",
      "likely:37\n",
      "many:38\n",
      "may:39\n",
      "medical:40\n",
      "mild:41\n",
      "moderate:42\n",
      "more:43\n",
      "most:44\n",
      "no:45\n",
      "older:46\n",
      "ongoing:47\n",
      "or:48\n",
      "pandemic:49\n",
      "people:50\n",
      "potential:51\n",
      "problems:52\n",
      "provide:53\n",
      "recover:54\n",
      "requiring:55\n",
      "respiratory:56\n",
      "serious:57\n",
      "soon:58\n",
      "special:59\n",
      "specific:60\n",
      "spread:61\n",
      "stirring:62\n",
      "that:63\n",
      "the:64\n",
      "there:65\n",
      "this:66\n",
      "those:67\n",
      "thousands:68\n",
      "time:69\n",
      "to:70\n",
      "treatment:71\n",
      "treatments:72\n",
      "trials:73\n",
      "underlying:74\n",
      "updated:75\n",
      "vaccines:76\n",
      "virus:77\n",
      "who:78\n",
      "will:79\n",
      "with:80\n",
      "without:81\n"
     ]
    }
   ],
   "source": [
    "for key in sorted(vocab2.keys()):\n",
    "    print(\"{}:{}\".format(key, vocab2[key]))"
   ]
  },
  {
   "cell_type": "code",
   "execution_count": 25,
   "metadata": {},
   "outputs": [
    {
     "name": "stdout",
     "output_type": "stream",
     "text": [
      "[[1 1 1 1 0 0 1 0 1 0 0 1 0 0 0 1 1 1 1 0 0 0 0 0 1 0 0 1 0 0 1 0 1 0 1 1\n",
      "  0 0 0 1 0 0 0 0 0 0 0 0 0 1 0 0 0 0 0 0 0 0 1 0 0 1 1 1 0 0 0 0 1 0 1 0\n",
      "  0 0 0 0 0 0 0 0 0 0]]\n"
     ]
    }
   ],
   "source": [
    "print(vect2.transform(['An infectious and deadly coronavirus that has killed thousands in China has spread to at least 44 countries, stirring fears that COVID-19 may soon become a pandemic.']).toarray())"
   ]
  },
  {
   "cell_type": "code",
   "execution_count": 26,
   "metadata": {},
   "outputs": [
    {
     "name": "stdout",
     "output_type": "stream",
     "text": [
      "[[0.21868701]]\n"
     ]
    }
   ],
   "source": [
    "from sklearn.metrics.pairwise import cosine_similarity\n",
    "similarity = cosine_similarity(vect2.transform([text1]).toarray(), vect2.transform([text2]).toarray())\n",
    "print(similarity)"
   ]
  }
 ],
 "metadata": {
  "kernelspec": {
   "display_name": "Python 3",
   "language": "python",
   "name": "python3"
  },
  "language_info": {
   "codemirror_mode": {
    "name": "ipython",
    "version": 3
   },
   "file_extension": ".py",
   "mimetype": "text/x-python",
   "name": "python",
   "nbconvert_exporter": "python",
   "pygments_lexer": "ipython3",
   "version": "3.7.6"
  }
 },
 "nbformat": 4,
 "nbformat_minor": 4
}
